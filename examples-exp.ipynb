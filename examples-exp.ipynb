{
 "cells": [
  {
   "cell_type": "markdown",
   "metadata": {},
   "source": [
    "# 1. import your original modules\n",
    "!! Not use 'from xxx import func.' This disable lab-note to save your original modules automatically. "
   ]
  },
  {
   "cell_type": "code",
   "execution_count": 1,
   "metadata": {},
   "outputs": [],
   "source": [
    "# coding=utf-8\n",
    "#import my_precious_module #<- your module files/directories must be placed under the current directly.\n",
    "\n",
    "import labnote as lb"
   ]
  },
  {
   "cell_type": "markdown",
   "metadata": {},
   "source": [
    "# 2. load yaml for argument setting\n",
    "The following code is just to produce yaml in code. You can prepare it manually."
   ]
  },
  {
   "cell_type": "code",
   "execution_count": 9,
   "metadata": {},
   "outputs": [],
   "source": [
    "import yaml\n",
    "from labnote.utils import register_arg4yaml as reg\n",
    "# Create an example of yaml to set command-line arguments.\n",
    "# Any args for add_argument function is available.\n",
    "# You can create the file by editting the yaml file directly.\n",
    "default_args = {\n",
    "    'alpha':reg(1.0,'-a',help='std. dev. of the first normal distribution'),\n",
    "    'beta':reg(1.0,'-b',help='std. dev. of the second normal distribution'),\n",
    "    'N':reg(100,'-N',int,help='# of samples'),    \n",
    "}\n",
    "default_args_yaml = './example_default_args.yml'\n",
    "with open(default_args_yaml,'w') as f:\n",
    "    f.write(yaml.dump(default_args, default_flow_style=False))\n"
   ]
  },
  {
   "cell_type": "markdown",
   "metadata": {},
   "source": [
    "# 3. Feed yaml from command line\n",
    "The following code is just to produce config file in code. You can prepare it manually.\n",
    "To feed config file (from command line), use --config or -c option."
   ]
  },
  {
   "cell_type": "code",
   "execution_count": 3,
   "metadata": {},
   "outputs": [],
   "source": [
    "# Create an example of an experimental configulation.\n",
    "# You can create the file by editting the yaml file directly.\n",
    "config_args = {\n",
    "    'beta':0.5\n",
    "}\n",
    "config_yaml = './test.yml'\n",
    "with open(config_yaml,'w') as f:\n",
    "    f.write(yaml.dump(config_args, default_flow_style=False))"
   ]
  },
  {
   "cell_type": "markdown",
   "metadata": {},
   "source": [
    "# 4. Create a note."
   ]
  },
  {
   "cell_type": "code",
   "execution_count": 10,
   "metadata": {},
   "outputs": [
    {
     "name": "stderr",
     "output_type": "stream",
     "text": [
      "/Users/hashimoto/github/lab-note/labnote/core.py:165: UserWarning: File is already exist: './log/examples-exp.html'\n",
      "  warn(\"File is already exist: '%s'\"%path)\n",
      "/Users/hashimoto/github/lab-note/labnote/core.py:166: UserWarning: The above file will be overwritten.\n",
      "  warn(\"The above file will be overwritten.\")\n"
     ]
    },
    {
     "name": "stdout",
     "output_type": "stream",
     "text": [
      "[NbConvertApp] Converting notebook examples-exp.ipynb to html\n",
      "[NbConvertApp] Writing 267603 bytes to ./log/examples-exp.html\n",
      "{'N': 100, 'alpha': 1.0, 'beta': 1.0, 'config': None, 'output': None, 'foo': 1}\n"
     ]
    }
   ],
   "source": [
    "note = lb.Note('./log',arguments=[default_args_yaml,{'foo':1}])\n",
    "print(note.params)"
   ]
  },
  {
   "cell_type": "markdown",
   "metadata": {},
   "source": [
    "# 5. Save experimental results (in two ways)\n",
    "'note.record()' makes result directory with timestamp."
   ]
  },
  {
   "cell_type": "code",
   "execution_count": null,
   "metadata": {},
   "outputs": [],
   "source": [
    "import os.path\n",
    "import numpy as np\n",
    "from numpy.random import randn\n",
    "\n",
    "\n",
    "with note.record() as rec:\n",
    "    print(rec.dirname)\n",
    "    x1 = randn(note.params.N)*note.params.alpha\n",
    "    x2 = randn(note.params.N)*note.params.beta\n",
    "    x = x1+x2\n",
    "    ideal_sigma = np.sqrt(note.params.alpha**2 + note.params.beta**2)\n",
    "    real_sigma = np.sqrt(np.var(x))\n",
    "    rec.timestamp('Record timestamp here')\n",
    "    with open(rec.getpath(\"test.txt\"),'w') as f:\n",
    "        f.write(\"ideal_sigma: %f\\n\"%ideal_sigma)\n",
    "        f.write(\"real_sigma: %f\\n\"%real_sigma)\n",
    "    last_exp_log = rec.dirname\n",
    "\n",
    "# The above code can be replaced to the following style.\n",
    "rec = note.record()\n",
    "# rec.open()\n",
    "# ...\n",
    "# rec.close()"
   ]
  },
  {
   "cell_type": "markdown",
   "metadata": {},
   "source": [
    "# 6. close session\n",
    "exit() calls note destructor, which save the jupyter log as an .html file in the `exp_log' directory."
   ]
  },
  {
   "cell_type": "code",
   "execution_count": null,
   "metadata": {},
   "outputs": [],
   "source": [
    "note.wrapup()\n",
    "exit()\n"
   ]
  },
  {
   "cell_type": "code",
   "execution_count": null,
   "metadata": {},
   "outputs": [],
   "source": []
  },
  {
   "cell_type": "code",
   "execution_count": null,
   "metadata": {},
   "outputs": [],
   "source": []
  }
 ],
 "metadata": {
  "kernelspec": {
   "display_name": "Python 3",
   "language": "python",
   "name": "python3"
  },
  "language_info": {
   "codemirror_mode": {
    "name": "ipython",
    "version": 3
   },
   "file_extension": ".py",
   "mimetype": "text/x-python",
   "name": "python",
   "nbconvert_exporter": "python",
   "pygments_lexer": "ipython3",
   "version": "3.6.5"
  }
 },
 "nbformat": 4,
 "nbformat_minor": 2
}
