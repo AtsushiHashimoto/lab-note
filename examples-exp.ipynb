{
 "cells": [
  {
   "cell_type": "markdown",
   "metadata": {},
   "source": [
    "# 1. import your original modules\n",
    "!! Not use 'from xxx import func.' This disable lab-note to save your original modules automatically. "
   ]
  },
  {
   "cell_type": "code",
   "execution_count": 1,
   "metadata": {},
   "outputs": [],
   "source": [
    "# coding=utf-8\n",
    "#import my_precious_module #<- your module files/directories must be placed under the current directly.\n",
    "\n",
    "import labnote as lb"
   ]
  },
  {
   "cell_type": "markdown",
   "metadata": {},
   "source": [
    "# 2. load yaml for argument setting\n",
    "The following configuration is equivalent to write...\n",
    "\n",
    "    parser.add_argument('--N',default=100,type=int,help='# of samples')\n",
    "    parser.add_argument('--alpha', '-a', default=1.0,type=float,help='std. dev. of the first normal distribution')\n",
    "    parser.add_argument('--beta', '-b', default=1.0, type=float,help='std. dev. of the second normal distribution')\n"
   ]
  },
  {
   "cell_type": "code",
   "execution_count": 2,
   "metadata": {},
   "outputs": [],
   "source": [
    "default_args_yaml = './example_default_args.yml'\n",
    "# all options of add_argument function can be a key of each parameter entry.\n",
    "with open(default_args_yaml,'w') as f:\n",
    "    conf = '''\n",
    "N:\n",
    "  default: 100\n",
    "  type: int\n",
    "  help: '# of samples'\n",
    "alpha:\n",
    "  name: -a\n",
    "  default: 1.0\n",
    "  type: float\n",
    "  help: std. dev. of the first normal distribution\n",
    "beta:\n",
    "  name: -b\n",
    "  default: 1.0\n",
    "  type: float\n",
    "  help: std. dev. of the second normal distribution\n",
    "'''\n",
    "    f.write(conf)"
   ]
  },
  {
   "cell_type": "markdown",
   "metadata": {},
   "source": [
    "# 3. Feed yaml from command line\n",
    "The following configuration can be fed to your code by...\n",
    "\n",
    "    % python your_code.py --config ./test.yml\n",
    "    \n",
    "And it is equivalent, in this case, to...\n",
    "\n",
    "    % python your_code.py --alpha 2.0 --beta 0.5 "
   ]
  },
  {
   "cell_type": "code",
   "execution_count": 3,
   "metadata": {},
   "outputs": [],
   "source": [
    "config_yaml = './test.yml'\n",
    "with open(config_yaml,'w') as f:\n",
    "    f.write(\n",
    "'''\n",
    "alpha: 2.0\n",
    "beta: 0.5\n",
    "'''\n",
    ")"
   ]
  },
  {
   "cell_type": "markdown",
   "metadata": {},
   "source": [
    "# 4. Create a note."
   ]
  },
  {
   "cell_type": "code",
   "execution_count": 4,
   "metadata": {},
   "outputs": [
    {
     "name": "stdout",
     "output_type": "stream",
     "text": [
      "{'N': 100, 'alpha': 1.0, 'beta': 1.0, 'config': None, 'output': None}\n"
     ]
    }
   ],
   "source": [
    "note = lb.Note('./log',arguments=[default_args_yaml])\n",
    "print(note.params)"
   ]
  },
  {
   "cell_type": "markdown",
   "metadata": {},
   "source": [
    "### simulate a process call with --config option.\n",
    "\n",
    "    % python your_code.py --config ./test.yml"
   ]
  },
  {
   "cell_type": "code",
   "execution_count": 5,
   "metadata": {},
   "outputs": [
    {
     "name": "stderr",
     "output_type": "stream",
     "text": [
      "/Users/hashimoto/github/lab-note/labnote/core.py:168: UserWarning: File is already exist: './log/examples-exp.html'\n",
      "  warn(\"File is already exist: '%s'\"%path)\n",
      "/Users/hashimoto/github/lab-note/labnote/core.py:169: UserWarning: The above file will be overwritten.\n",
      "  warn(\"The above file will be overwritten.\")\n"
     ]
    },
    {
     "name": "stdout",
     "output_type": "stream",
     "text": [
      "[NbConvertApp] Converting notebook examples-exp.ipynb to html\n",
      "[NbConvertApp] Writing 266996 bytes to ./log/examples-exp.html\n",
      "{'N': 100, 'alpha': 2.0, 'beta': 0.5, 'config': './test.yml', 'output': None}\n"
     ]
    }
   ],
   "source": [
    "note = lb.Note('./log',arguments=[default_args_yaml,{'config':config_yaml}])\n",
    "print(note.params)"
   ]
  },
  {
   "cell_type": "markdown",
   "metadata": {},
   "source": [
    "# 5. Save experimental results (in two ways)\n",
    "'note.record()' makes result directory with timestamp."
   ]
  },
  {
   "cell_type": "code",
   "execution_count": 6,
   "metadata": {},
   "outputs": [
    {
     "name": "stdout",
     "output_type": "stream",
     "text": [
      "Start record, 20190119-00.31.13.234730\n",
      "\n",
      "./log/results\n",
      "Record timestamp here, 20190119-00.31.13.235853\n",
      "\n",
      "End record, 20190119-00.31.13.237978\n",
      "\n"
     ]
    },
    {
     "name": "stderr",
     "output_type": "stream",
     "text": [
      "/Users/hashimoto/github/lab-note/labnote/core.py:389: UserWarning: ./log/results is already exists. Files in the directory will be overwritten.\n",
      "  warn('%s is already exists. Files in the directory will be overwritten.'%dirname)\n"
     ]
    }
   ],
   "source": [
    "import os.path\n",
    "import numpy as np\n",
    "from numpy.random import randn\n",
    "\n",
    "\n",
    "with note.record() as rec:\n",
    "    print(rec.dirname)\n",
    "    x1 = randn(note.params.N)*note.params.alpha\n",
    "    x2 = randn(note.params.N)*note.params.beta\n",
    "    x = x1+x2\n",
    "    ideal_sigma = np.sqrt(note.params.alpha**2 + note.params.beta**2)\n",
    "    real_sigma = np.sqrt(np.var(x))\n",
    "    rec.timestamp('Record timestamp here')\n",
    "    with open(rec.getpath(\"test.txt\"),'w') as f:\n",
    "        f.write(\"ideal_sigma: %f\\n\"%ideal_sigma)\n",
    "        f.write(\"real_sigma: %f\\n\"%real_sigma)\n",
    "    last_exp_log = rec.dirname\n",
    "\n",
    "# The above code can be replaced to the following style.\n",
    "rec = note.record()\n",
    "# rec.open()\n",
    "# ...\n",
    "# rec.close()"
   ]
  },
  {
   "cell_type": "markdown",
   "metadata": {},
   "source": [
    "# 6. close session\n",
    "exit() calls note destructor, which save the jupyter log as an .html file in the `exp_log' directory."
   ]
  },
  {
   "cell_type": "code",
   "execution_count": 7,
   "metadata": {},
   "outputs": [
    {
     "name": "stderr",
     "output_type": "stream",
     "text": [
      "/Users/hashimoto/github/lab-note/labnote/core.py:168: UserWarning: File is already exist: './log/examples-exp.html'\n",
      "  warn(\"File is already exist: '%s'\"%path)\n",
      "/Users/hashimoto/github/lab-note/labnote/core.py:169: UserWarning: The above file will be overwritten.\n",
      "  warn(\"The above file will be overwritten.\")\n"
     ]
    },
    {
     "name": "stdout",
     "output_type": "stream",
     "text": [
      "[NbConvertApp] Converting notebook examples-exp.ipynb to html\n",
      "[NbConvertApp] Writing 266996 bytes to ./log/examples-exp.html\n"
     ]
    }
   ],
   "source": [
    "note.wrapup()\n",
    "exit()\n"
   ]
  },
  {
   "cell_type": "code",
   "execution_count": null,
   "metadata": {},
   "outputs": [],
   "source": []
  }
 ],
 "metadata": {
  "kernelspec": {
   "display_name": "Python 3",
   "language": "python",
   "name": "python3"
  },
  "language_info": {
   "codemirror_mode": {
    "name": "ipython",
    "version": 3
   },
   "file_extension": ".py",
   "mimetype": "text/x-python",
   "name": "python",
   "nbconvert_exporter": "python",
   "pygments_lexer": "ipython3",
   "version": "3.6.5"
  }
 },
 "nbformat": 4,
 "nbformat_minor": 2
}
