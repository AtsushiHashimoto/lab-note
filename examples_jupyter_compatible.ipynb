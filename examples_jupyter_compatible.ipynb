{
 "cells": [
  {
   "cell_type": "markdown",
   "metadata": {},
   "source": [
    "# import your original modules\n",
    "!! Not use 'from xxx import func.' This disable lab-note to save your original modules automatically. "
   ]
  },
  {
   "cell_type": "code",
   "execution_count": 1,
   "metadata": {},
   "outputs": [],
   "source": [
    "# coding=utf-8\n",
    "#import my_precious_module #<- your module files/directories must be placed under the current directly.\n",
    "\n",
    "import labnote as lb"
   ]
  },
  {
   "cell_type": "markdown",
   "metadata": {},
   "source": [
    "# Python/Jupyter compatible argument parser"
   ]
  },
  {
   "cell_type": "code",
   "execution_count": 2,
   "metadata": {},
   "outputs": [
    {
     "data": {
      "text/plain": [
       "_StoreAction(option_strings=['-N', '--N'], dest='N', nargs=None, const=None, default=100, type=<class 'int'>, choices=None, help='# of samples', metavar=None)"
      ]
     },
     "execution_count": 2,
     "metadata": {},
     "output_type": "execute_result"
    }
   ],
   "source": [
    "parser = lb.ArgumentParser(description='This script is a demo of lab-note. Calculate std. dev. of a distribution obtained by sum of two normal dist N(0,alpha),N(0,beta).')\n",
    "\n",
    "parser.add_argument('alpha', \\\n",
    "        type=float, \\\n",
    "        help='std. dev. of the first normal distribution')\n",
    "parser.add_argument('--beta', \\\n",
    "        type=float, \\\n",
    "        default=1.0,\n",
    "        help='std. dev. of the second normal distribution')\n",
    "parser.add_argument('-N', '--N',\\\n",
    "        type=int, \\\n",
    "        default=100,\n",
    "        help='# of samples')"
   ]
  },
  {
   "cell_type": "markdown",
   "metadata": {},
   "source": [
    "# magics to make the code jupyter/python compatible"
   ]
  },
  {
   "cell_type": "code",
   "execution_count": 3,
   "metadata": {},
   "outputs": [],
   "source": [
    "args = None\n",
    "script_name = None\n",
    "\n",
    "if lb.utils.is_executed_on_ipython():\n",
    "    args = ['1.0'] #<- to emurate command line option, values must be given as str type values.\n",
    "    script_name = \"examples.ipynb\" # necessary only with password-authentifying jupyter."
   ]
  },
  {
   "cell_type": "markdown",
   "metadata": {},
   "source": [
    "# parse arguments and set the parameter to Note."
   ]
  },
  {
   "cell_type": "code",
   "execution_count": 4,
   "metadata": {},
   "outputs": [],
   "source": [
    "note = lb.Note('./exp_log',\n",
    "               script_name=script_name,\n",
    "               arguments=parser.parse_args(args))\n"
   ]
  },
  {
   "cell_type": "code",
   "execution_count": 5,
   "metadata": {},
   "outputs": [
    {
     "data": {
      "text/plain": [
       "\"\\nfrom easydict import EasyDict as edict\\nx = {'a':1}\\nx.update({'b':2})\\nprint(x)\\n\\nx.pop('b')\\nprint(x)\\n\""
      ]
     },
     "execution_count": 5,
     "metadata": {},
     "output_type": "execute_result"
    }
   ],
   "source": [
    "'''\n",
    "from easydict import EasyDict as edict\n",
    "x = {'a':1}\n",
    "x.update({'b':2})\n",
    "print(x)\n",
    "\n",
    "x.pop('b')\n",
    "print(x)\n",
    "'''"
   ]
  },
  {
   "cell_type": "markdown",
   "metadata": {},
   "source": [
    "# save parameters before starting your experiment."
   ]
  },
  {
   "cell_type": "code",
   "execution_count": 6,
   "metadata": {},
   "outputs": [
    {
     "name": "stderr",
     "output_type": "stream",
     "text": [
      "/Users/hashimoto/github/lab-note/labnote/core.py:165: UserWarning: File is already exist: './exp_log/params.yml'\n",
      "  warn(\"File is already exist: '%s'\"%path)\n",
      "/Users/hashimoto/github/lab-note/labnote/core.py:166: UserWarning: The above file will be overwritten.\n",
      "  warn(\"The above file will be overwritten.\")\n"
     ]
    },
    {
     "name": "stdout",
     "output_type": "stream",
     "text": [
      "[NbConvertApp] Converting notebook examples_jupyter_compatible.ipynb to script\n",
      "[NbConvertApp] Writing 3137 bytes to ./exp_log/examples_jupyter_compatible.py\n"
     ]
    },
    {
     "name": "stderr",
     "output_type": "stream",
     "text": [
      "/Users/hashimoto/github/lab-note/labnote/core.py:165: UserWarning: File is already exist: './exp_log/memo.txt'\n",
      "  warn(\"File is already exist: '%s'\"%path)\n",
      "/Users/hashimoto/github/lab-note/labnote/core.py:166: UserWarning: The above file will be overwritten.\n",
      "  warn(\"The above file will be overwritten.\")\n",
      "/Users/hashimoto/github/lab-note/labnote/core.py:165: UserWarning: File is already exist: './exp_log/note.pickle'\n",
      "  warn(\"File is already exist: '%s'\"%path)\n"
     ]
    }
   ],
   "source": [
    "note.save(\"Memo: this is a perfect experimental setting!\")"
   ]
  },
  {
   "cell_type": "markdown",
   "metadata": {},
   "source": [
    "# save experimental results (in two ways)\n",
    "'note.record()' makes result directory with timestamp."
   ]
  },
  {
   "cell_type": "code",
   "execution_count": 7,
   "metadata": {},
   "outputs": [
    {
     "name": "stdout",
     "output_type": "stream",
     "text": [
      "Start record, 20190117-11.05.01.655823\n",
      "\n",
      "./exp_log/results\n",
      "Record timestamp here, 20190117-11.05.01.657080\n",
      "\n",
      "End record, 20190117-11.05.01.658060\n",
      "\n"
     ]
    },
    {
     "name": "stderr",
     "output_type": "stream",
     "text": [
      "/Users/hashimoto/github/lab-note/labnote/core.py:386: UserWarning: ./exp_log/results is already exists. Files in the directory will be overwritten.\n",
      "  warn('%s is already exists. Files in the directory will be overwritten.'%dirname)\n"
     ]
    }
   ],
   "source": [
    "import os.path\n",
    "import numpy as np\n",
    "from numpy.random import randn\n",
    "\n",
    "\n",
    "with note.record() as rec:\n",
    "    print(rec.dirname)\n",
    "    x1 = randn(note.params.N)*note.params.alpha\n",
    "    x2 = randn(note.params.N)*note.params.beta\n",
    "    x = x1+x2\n",
    "    ideal_sigma = np.sqrt(note.params.alpha**2 + note.params.beta**2)\n",
    "    real_sigma = np.sqrt(np.var(x))\n",
    "    rec.timestamp('Record timestamp here')\n",
    "    with open(rec.getpath(\"test.txt\"),'w') as f:\n",
    "        f.write(\"ideal_sigma: %f\\n\"%ideal_sigma)\n",
    "        f.write(\"real_sigma: %f\\n\"%real_sigma)\n",
    "    last_exp_log = rec.dirname\n",
    "\n",
    "# The above code can be replaced to the following style.\n",
    "rec = note.record()\n",
    "# rec.open()\n",
    "# ...\n",
    "# rec.close()"
   ]
  },
  {
   "cell_type": "markdown",
   "metadata": {},
   "source": [
    "# show records"
   ]
  },
  {
   "cell_type": "code",
   "execution_count": 8,
   "metadata": {},
   "outputs": [
    {
     "name": "stdout",
     "output_type": "stream",
     "text": [
      "test.txt (calculation result)\n",
      "---------------\n",
      "ideal_sigma: 1.414214\n",
      "\n",
      "real_sigma: 1.409855\n",
      "\n",
      "---------------\n"
     ]
    }
   ],
   "source": [
    "print('test.txt (calculation result)')\n",
    "print('---------------')\n",
    "with open(os.path.join(last_exp_log,'test.txt')) as f:\n",
    "    for l in f:\n",
    "        print(l)\n",
    "print('---------------')\n"
   ]
  },
  {
   "cell_type": "code",
   "execution_count": 9,
   "metadata": {},
   "outputs": [
    {
     "name": "stdout",
     "output_type": "stream",
     "text": [
      "timestamp\n",
      "---------------\n",
      "Start record, 20190117-10.41.39.715033\n",
      "\n",
      "Record timestamp here, 20190117-10.41.39.716615\n",
      "\n",
      "End record, 20190117-10.41.39.717918\n",
      "\n",
      "Start record, 20190117-10.50.20.873565\n",
      "\n",
      "Record timestamp here, 20190117-10.50.20.875529\n",
      "\n",
      "End record, 20190117-10.50.20.876868\n",
      "\n",
      "Start record, 20190117-11.05.01.655823\n",
      "\n",
      "Record timestamp here, 20190117-11.05.01.657080\n",
      "\n",
      "End record, 20190117-11.05.01.658060\n",
      "\n",
      "---------------\n"
     ]
    }
   ],
   "source": [
    "print('timestamp')\n",
    "print('---------------')\n",
    "with open(os.path.join(last_exp_log,'timestamp')) as f:\n",
    "    for l in f:\n",
    "        print(l)\n",
    "print('---------------')\n"
   ]
  },
  {
   "cell_type": "code",
   "execution_count": 10,
   "metadata": {},
   "outputs": [
    {
     "name": "stdout",
     "output_type": "stream",
     "text": [
      "requirements.txt\n",
      "---------------\n",
      "easydict==1.7\n",
      "\n",
      "notebook==5.4.1\n",
      "\n",
      "requests==2.20.0\n",
      "\n",
      "ipykernel==4.8.2\n",
      "\n",
      "pip==18.1\n",
      "\n",
      "numpy==1.14.2\n",
      "\n",
      "ipython==7.2.0\n",
      "\n",
      "usercustomize==1.0.0\n",
      "\n",
      "PyYAML==3.13\n",
      "\n",
      "---------------\n"
     ]
    }
   ],
   "source": [
    "print('requirements.txt')\n",
    "print('---------------')\n",
    "with open(os.path.join(note.makedirs(),'requirements.txt')) as f:\n",
    "    for l in f:\n",
    "        print(l)\n",
    "print('---------------')\n"
   ]
  },
  {
   "cell_type": "markdown",
   "metadata": {},
   "source": [
    "# close session\n",
    "exit() calls note destructor, which save the jupyter log as an .html file in the `exp_log' directory."
   ]
  },
  {
   "cell_type": "code",
   "execution_count": 11,
   "metadata": {},
   "outputs": [
    {
     "name": "stderr",
     "output_type": "stream",
     "text": [
      "/Users/hashimoto/github/lab-note/labnote/core.py:165: UserWarning: File is already exist: './exp_log/examples_jupyter_compatible.html'\n",
      "  warn(\"File is already exist: '%s'\"%path)\n",
      "/Users/hashimoto/github/lab-note/labnote/core.py:166: UserWarning: The above file will be overwritten.\n",
      "  warn(\"The above file will be overwritten.\")\n"
     ]
    },
    {
     "name": "stdout",
     "output_type": "stream",
     "text": [
      "[NbConvertApp] Converting notebook examples_jupyter_compatible.ipynb to html\n",
      "[NbConvertApp] Writing 268684 bytes to ./exp_log/examples_jupyter_compatible.html\n"
     ]
    }
   ],
   "source": [
    "note.wrapup()\n",
    "exit()\n"
   ]
  },
  {
   "cell_type": "code",
   "execution_count": null,
   "metadata": {},
   "outputs": [],
   "source": []
  },
  {
   "cell_type": "code",
   "execution_count": null,
   "metadata": {},
   "outputs": [],
   "source": []
  }
 ],
 "metadata": {
  "kernelspec": {
   "display_name": "Python 3",
   "language": "python",
   "name": "python3"
  },
  "language_info": {
   "codemirror_mode": {
    "name": "ipython",
    "version": 3
   },
   "file_extension": ".py",
   "mimetype": "text/x-python",
   "name": "python",
   "nbconvert_exporter": "python",
   "pygments_lexer": "ipython3",
   "version": "3.6.5"
  }
 },
 "nbformat": 4,
 "nbformat_minor": 2
}
