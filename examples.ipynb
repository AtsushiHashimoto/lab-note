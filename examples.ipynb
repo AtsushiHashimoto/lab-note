{
 "cells": [
  {
   "cell_type": "markdown",
   "metadata": {},
   "source": [
    "# python compatible autoreload"
   ]
  },
  {
   "cell_type": "code",
   "execution_count": 2,
   "metadata": {},
   "outputs": [],
   "source": [
    "\n",
    "from IPython import get_ipython\n",
    "ipython = get_ipython()\n",
    "if '__IPYTHON__' in globals():\n",
    "    ipython.magic('load_ext autoreload')\n",
    "    ipython.magic('autoreload 2')"
   ]
  },
  {
   "cell_type": "markdown",
   "metadata": {},
   "source": [
    "# import your original modules\n",
    "!! Not use 'from xxx import func.' This disable lab-note to save your original modules automatically. "
   ]
  },
  {
   "cell_type": "code",
   "execution_count": 3,
   "metadata": {},
   "outputs": [],
   "source": [
    "import labnote as ln"
   ]
  },
  {
   "cell_type": "markdown",
   "metadata": {},
   "source": [
    "# Python/Jupyter compatible argument parser"
   ]
  },
  {
   "cell_type": "code",
   "execution_count": 4,
   "metadata": {},
   "outputs": [
    {
     "data": {
      "text/plain": [
       "_StoreAction(option_strings=[], dest='path_root_src', nargs=None, const=None, default=None, type=<class 'str'>, choices=None, help='Directory path where your taken photo files are located.', metavar=None)"
      ]
     },
     "execution_count": 4,
     "metadata": {},
     "output_type": "execute_result"
    }
   ],
   "source": [
    "parser = ln.ArgumentParser(description='This script is a demo of lab-note.')\n",
    "\n",
    "parser.add_argument('path_root_src', \\\n",
    "        action='store', \\\n",
    "        nargs=None, \\\n",
    "        const=None, \\\n",
    "        default=None, \\\n",
    "        type=str, \\\n",
    "        choices=None, \\\n",
    "        help='Directory path where your taken photo files are located.', \\\n",
    "        metavar=None)\n"
   ]
  },
  {
   "cell_type": "markdown",
   "metadata": {},
   "source": [
    "# magics to make the code jupyter/python compatible"
   ]
  },
  {
   "cell_type": "code",
   "execution_count": 5,
   "metadata": {},
   "outputs": [],
   "source": [
    "args = None\n",
    "script_name = None\n",
    "if ln.utils.is_executed_on_ipython():\n",
    "    args = ['path/to/foo']\n",
    "    script_name = \"examples.ipynb\" # necessary only with password-authentifying jupyter."
   ]
  },
  {
   "cell_type": "markdown",
   "metadata": {},
   "source": [
    "# parse arguments and set the parameter to Note."
   ]
  },
  {
   "cell_type": "code",
   "execution_count": 6,
   "metadata": {},
   "outputs": [],
   "source": [
    "params = parser.parse_args(args)\n",
    "note = ln.Note('./exp_log',script_name=script_name)\n",
    "note.set_params(params)"
   ]
  },
  {
   "cell_type": "markdown",
   "metadata": {},
   "source": [
    "# save parameters before starting your experiment."
   ]
  },
  {
   "cell_type": "code",
   "execution_count": 7,
   "metadata": {},
   "outputs": [],
   "source": [
    "note.save(\"Memo: this is a perfect experimental setting!\")"
   ]
  },
  {
   "cell_type": "markdown",
   "metadata": {},
   "source": [
    "# save experimental results safely\n",
    "'note.record()' makes result directory with timestamp."
   ]
  },
  {
   "cell_type": "code",
   "execution_count": 8,
   "metadata": {},
   "outputs": [
    {
     "name": "stdout",
     "output_type": "stream",
     "text": [
      "./exp_log/examples-20181024-09.46.53/results/20181024-09.46.54\n"
     ]
    }
   ],
   "source": [
    "import os.path\n",
    "with note.record() as dst_dir:\n",
    "    print(dst_dir)\n",
    "    with open(os.path.join(dst_dir,\"test.txt\"),'w') as f:\n",
    "        f.write(\"a great result!!\\n\")"
   ]
  },
  {
   "cell_type": "markdown",
   "metadata": {},
   "source": [
    "# close session\n",
    "exit() calls note destructor, which save the jupyter log as an .html file in the `exp_log' directory."
   ]
  },
  {
   "cell_type": "code",
   "execution_count": 11,
   "metadata": {},
   "outputs": [],
   "source": [
    "exit()\n",
    "#note.wrapup()"
   ]
  },
  {
   "cell_type": "code",
   "execution_count": null,
   "metadata": {},
   "outputs": [],
   "source": []
  }
 ],
 "metadata": {
  "kernelspec": {
   "display_name": "Python 3",
   "language": "python",
   "name": "python3"
  },
  "language_info": {
   "codemirror_mode": {
    "name": "ipython",
    "version": 3
   },
   "file_extension": ".py",
   "mimetype": "text/x-python",
   "name": "python",
   "nbconvert_exporter": "python",
   "pygments_lexer": "ipython3",
   "version": "3.6.5"
  }
 },
 "nbformat": 4,
 "nbformat_minor": 2
}
