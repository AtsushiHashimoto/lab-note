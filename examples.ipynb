{
 "cells": [
  {
   "cell_type": "markdown",
   "metadata": {},
   "source": [
    "# import your original modules\n",
    "!! Not use 'from xxx import func.' This disable lab-note to save your original modules automatically. "
   ]
  },
  {
   "cell_type": "code",
   "execution_count": 1,
   "metadata": {},
   "outputs": [],
   "source": [
    "# coding=utf-8\n",
    "#import my_precious_module #<- your module files/directories must be placed under the current directly.\n",
    "\n",
    "import labnote as lb"
   ]
  },
  {
   "cell_type": "markdown",
   "metadata": {},
   "source": [
    "# Python/Jupyter compatible argument parser"
   ]
  },
  {
   "cell_type": "code",
   "execution_count": 2,
   "metadata": {},
   "outputs": [
    {
     "data": {
      "text/plain": [
       "_StoreAction(option_strings=['-N', '--N'], dest='N', nargs=None, const=None, default=100, type=<class 'int'>, choices=None, help='# of samples', metavar=None)"
      ]
     },
     "execution_count": 2,
     "metadata": {},
     "output_type": "execute_result"
    }
   ],
   "source": [
    "parser = lb.ArgumentParser(description='This script is a demo of lab-note. Calculate std. dev. of a distribution obtained by sum of two normal dist N(0,alpha),N(0,beta).')\n",
    "\n",
    "parser.add_argument('alpha', \\\n",
    "        type=float, \\\n",
    "        help='std. dev. of the first normal distribution')\n",
    "parser.add_argument('--beta', \\\n",
    "        type=float, \\\n",
    "        default=1.0,\n",
    "        help='std. dev. of the second normal distribution')\n",
    "parser.add_argument('-N', '--N',\\\n",
    "        type=int, \\\n",
    "        default=100,\n",
    "        help='# of samples')"
   ]
  },
  {
   "cell_type": "markdown",
   "metadata": {},
   "source": [
    "# magics to make the code jupyter/python compatible"
   ]
  },
  {
   "cell_type": "code",
   "execution_count": 3,
   "metadata": {},
   "outputs": [],
   "source": [
    "args = None\n",
    "script_name = None\n",
    "\n",
    "if lb.utils.is_executed_on_ipython():\n",
    "    args = ['1.0'] #<- to emurate command line option, values must be given as str type values.\n",
    "    script_name = \"examples.ipynb\" # necessary only with password-authentifying jupyter."
   ]
  },
  {
   "cell_type": "markdown",
   "metadata": {},
   "source": [
    "# parse arguments and set the parameter to Note."
   ]
  },
  {
   "cell_type": "code",
   "execution_count": 4,
   "metadata": {},
   "outputs": [],
   "source": [
    "note = lb.Note('./exp_log',\n",
    "               safe_mode=False, # set False during debugging.\n",
    "               script_name=script_name)\n",
    "params = parser.parse_args(args)\n",
    "note.set_params(params)"
   ]
  },
  {
   "cell_type": "markdown",
   "metadata": {},
   "source": [
    "# save parameters before starting your experiment."
   ]
  },
  {
   "cell_type": "code",
   "execution_count": 5,
   "metadata": {},
   "outputs": [
    {
     "name": "stdout",
     "output_type": "stream",
     "text": [
      "[NbConvertApp] Converting notebook examples.ipynb to script\n",
      "[NbConvertApp] Writing 3093 bytes to ./exp_log/examples/20181123-20.38.26/examples.py\n"
     ]
    },
    {
     "ename": "TypeError",
     "evalue": "a bytes-like object is required, not 'str'",
     "output_type": "error",
     "traceback": [
      "\u001b[0;31m---------------------------------------------------------------------------\u001b[0m",
      "\u001b[0;31mTypeError\u001b[0m                                 Traceback (most recent call last)",
      "\u001b[0;32m<ipython-input-5-93f40fe98e1d>\u001b[0m in \u001b[0;36m<module>\u001b[0;34m()\u001b[0m\n\u001b[0;32m----> 1\u001b[0;31m \u001b[0mnote\u001b[0m\u001b[0;34m.\u001b[0m\u001b[0msave\u001b[0m\u001b[0;34m(\u001b[0m\u001b[0;34m\"Memo: this is a perfect experimental setting!\"\u001b[0m\u001b[0;34m)\u001b[0m\u001b[0;34m\u001b[0m\u001b[0m\n\u001b[0m",
      "\u001b[0;32m~/lab-note/labnote/core.py\u001b[0m in \u001b[0;36msave\u001b[0;34m(self, memo)\u001b[0m\n\u001b[1;32m    155\u001b[0m         \u001b[0mself\u001b[0m\u001b[0;34m.\u001b[0m\u001b[0m_save_scripts\u001b[0m\u001b[0;34m(\u001b[0m\u001b[0;34m)\u001b[0m\u001b[0;34m\u001b[0m\u001b[0m\n\u001b[1;32m    156\u001b[0m         \u001b[0;32mif\u001b[0m \u001b[0mmemo\u001b[0m\u001b[0;34m:\u001b[0m\u001b[0;34m\u001b[0m\u001b[0m\n\u001b[0;32m--> 157\u001b[0;31m             \u001b[0mself\u001b[0m\u001b[0;34m.\u001b[0m\u001b[0m_save_memo\u001b[0m\u001b[0;34m(\u001b[0m\u001b[0mmemo\u001b[0m\u001b[0;34m,\u001b[0m\u001b[0mself\u001b[0m\u001b[0;34m.\u001b[0m\u001b[0mMemoFileBaseName\u001b[0m\u001b[0;34m)\u001b[0m\u001b[0;34m\u001b[0m\u001b[0m\n\u001b[0m\u001b[1;32m    158\u001b[0m         \u001b[0mself\u001b[0m\u001b[0;34m.\u001b[0m\u001b[0m_save_me\u001b[0m\u001b[0;34m(\u001b[0m\u001b[0mself\u001b[0m\u001b[0;34m.\u001b[0m\u001b[0mPickleFileBaseName\u001b[0m\u001b[0;34m)\u001b[0m\u001b[0;34m\u001b[0m\u001b[0m\n\u001b[1;32m    159\u001b[0m \u001b[0;34m\u001b[0m\u001b[0m\n",
      "\u001b[0;32m~/lab-note/labnote/core.py\u001b[0m in \u001b[0;36m_save_memo\u001b[0;34m(self, memo, base_name)\u001b[0m\n\u001b[1;32m    268\u001b[0m         \u001b[0;32mwith\u001b[0m \u001b[0mopen\u001b[0m\u001b[0;34m(\u001b[0m\u001b[0mfile\u001b[0m\u001b[0;34m,\u001b[0m\u001b[0;34m'wb'\u001b[0m\u001b[0;34m)\u001b[0m \u001b[0;32mas\u001b[0m \u001b[0mf\u001b[0m\u001b[0;34m:\u001b[0m\u001b[0;34m\u001b[0m\u001b[0m\n\u001b[1;32m    269\u001b[0m             \u001b[0mf\u001b[0m\u001b[0;34m.\u001b[0m\u001b[0mwrite\u001b[0m\u001b[0;34m(\u001b[0m\u001b[0mmemo\u001b[0m\u001b[0;34m.\u001b[0m\u001b[0mencode\u001b[0m\u001b[0;34m(\u001b[0m\u001b[0;34m'utf-8'\u001b[0m\u001b[0;34m)\u001b[0m\u001b[0;34m)\u001b[0m\u001b[0;34m\u001b[0m\u001b[0m\n\u001b[0;32m--> 270\u001b[0;31m             \u001b[0mf\u001b[0m\u001b[0;34m.\u001b[0m\u001b[0mwrite\u001b[0m\u001b[0;34m(\u001b[0m\u001b[0;34m\"\\n\"\u001b[0m\u001b[0;34m)\u001b[0m\u001b[0;34m\u001b[0m\u001b[0m\n\u001b[0m\u001b[1;32m    271\u001b[0m         \u001b[0mutils\u001b[0m\u001b[0;34m.\u001b[0m\u001b[0mremove_write_permissions\u001b[0m\u001b[0;34m(\u001b[0m\u001b[0mfile\u001b[0m\u001b[0;34m)\u001b[0m\u001b[0;34m\u001b[0m\u001b[0m\n\u001b[1;32m    272\u001b[0m \u001b[0;34m\u001b[0m\u001b[0m\n",
      "\u001b[0;31mTypeError\u001b[0m: a bytes-like object is required, not 'str'"
     ]
    }
   ],
   "source": [
    "note.save(\"Memo: this is a perfect experimental setting!\")"
   ]
  },
  {
   "cell_type": "markdown",
   "metadata": {},
   "source": [
    "# save experimental results safely (in two ways)\n",
    "'note.record()' makes result directory with timestamp."
   ]
  },
  {
   "cell_type": "code",
   "execution_count": null,
   "metadata": {},
   "outputs": [],
   "source": [
    "import os.path\n",
    "import numpy as np\n",
    "from numpy.random import randn\n",
    "\n",
    "\n",
    "with note.record() as rec:\n",
    "    print(rec.dirname)\n",
    "    x1 = randn(note.params.N)*note.params.alpha\n",
    "    x2 = randn(note.params.N)*note.params.beta\n",
    "    x = x1+x2\n",
    "    ideal_sigma = np.sqrt(note.params.alpha**2 + note.params.beta**2)\n",
    "    real_sigma = np.sqrt(np.var(x))\n",
    "    rec.timestamp('Record timestamp here')\n",
    "    with open(rec.getpath(\"test.txt\"),'w') as f:\n",
    "        f.write(\"ideal_sigma: %f\\n\"%ideal_sigma)\n",
    "        f.write(\"real_sigma: %f\\n\"%real_sigma)\n",
    "    last_exp_log = rec.dirname\n",
    "\n",
    "# The above code can be replaced to the following style.\n",
    "rec = note.record()\n",
    "# rec.open()\n",
    "# ...\n",
    "# rec.close()"
   ]
  },
  {
   "cell_type": "markdown",
   "metadata": {},
   "source": [
    "# show records"
   ]
  },
  {
   "cell_type": "code",
   "execution_count": null,
   "metadata": {},
   "outputs": [],
   "source": [
    "print('test.txt (calculation result)')\n",
    "print('---------------')\n",
    "with open(os.path.join(last_exp_log,'test.txt')) as f:\n",
    "    for l in f:\n",
    "        print(l)\n",
    "print('---------------')\n"
   ]
  },
  {
   "cell_type": "code",
   "execution_count": null,
   "metadata": {},
   "outputs": [],
   "source": [
    "print('timestamp')\n",
    "print('---------------')\n",
    "with open(os.path.join(last_exp_log,'timestamp')) as f:\n",
    "    for l in f:\n",
    "        print(l)\n",
    "print('---------------')\n"
   ]
  },
  {
   "cell_type": "code",
   "execution_count": null,
   "metadata": {},
   "outputs": [],
   "source": [
    "print('requirements.txt')\n",
    "print('---------------')\n",
    "with open(os.path.join(note.makedirs(),'requirements.txt')) as f:\n",
    "    for l in f:\n",
    "        print(l)\n",
    "print('---------------')\n"
   ]
  },
  {
   "cell_type": "markdown",
   "metadata": {},
   "source": [
    "# close session\n",
    "exit() calls note destructor, which save the jupyter log as an .html file in the `exp_log' directory."
   ]
  },
  {
   "cell_type": "code",
   "execution_count": null,
   "metadata": {},
   "outputs": [],
   "source": [
    "#note.wrapup()\n",
    "#exit()\n"
   ]
  },
  {
   "cell_type": "code",
   "execution_count": null,
   "metadata": {},
   "outputs": [],
   "source": []
  },
  {
   "cell_type": "code",
   "execution_count": null,
   "metadata": {},
   "outputs": [],
   "source": []
  }
 ],
 "metadata": {
  "kernelspec": {
   "display_name": "Python 3",
   "language": "python",
   "name": "python3"
  },
  "language_info": {
   "codemirror_mode": {
    "name": "ipython",
    "version": 3
   },
   "file_extension": ".py",
   "mimetype": "text/x-python",
   "name": "python",
   "nbconvert_exporter": "python",
   "pygments_lexer": "ipython3",
   "version": "3.6.5"
  }
 },
 "nbformat": 4,
 "nbformat_minor": 2
}
