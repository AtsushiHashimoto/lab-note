{
 "cells": [
  {
   "cell_type": "markdown",
   "metadata": {},
   "source": [
    "# import your original modules\n",
    "!! Not use 'from xxx import func.' This disable lab-note to save your original modules automatically. "
   ]
  },
  {
   "cell_type": "code",
   "execution_count": 1,
   "metadata": {},
   "outputs": [],
   "source": [
    "# coding=utf-8\n",
    "#import my_precious_module #<- your module files/directories must be placed under the current directly.\n",
    "\n",
    "import labnote as lb"
   ]
  },
  {
   "cell_type": "markdown",
   "metadata": {},
   "source": [
    "# Python/Jupyter compatible argument parser"
   ]
  },
  {
   "cell_type": "code",
   "execution_count": 2,
   "metadata": {},
   "outputs": [
    {
     "data": {
      "text/plain": [
       "_StoreAction(option_strings=['-N', '--N'], dest='N', nargs=None, const=None, default=100, type=<class 'int'>, choices=None, help='# of samples', metavar=None)"
      ]
     },
     "execution_count": 2,
     "metadata": {},
     "output_type": "execute_result"
    }
   ],
   "source": [
    "parser = lb.ArgumentParser(description='This script is a demo of lab-note. Calculate std. dev. of a distribution obtained by sum of two normal dist N(0,alpha),N(0,beta).')\n",
    "\n",
    "parser.add_argument('alpha', \\\n",
    "        type=float, \\\n",
    "        help='std. dev. of the first normal distribution')\n",
    "parser.add_argument('--beta', \\\n",
    "        type=float, \\\n",
    "        default=1.0,\n",
    "        help='std. dev. of the second normal distribution')\n",
    "parser.add_argument('-N', '--N',\\\n",
    "        type=int, \\\n",
    "        default=100,\n",
    "        help='# of samples')"
   ]
  },
  {
   "cell_type": "markdown",
   "metadata": {},
   "source": [
    "# magics to make the code jupyter/python compatible"
   ]
  },
  {
   "cell_type": "code",
   "execution_count": 3,
   "metadata": {},
   "outputs": [],
   "source": [
    "args = None\n",
    "script_name = None\n",
    "\n",
    "if lb.utils.is_executed_on_ipython():\n",
    "    args = ['1.0'] #<- to emurate command line option, values must be given as str type values.\n",
    "    script_name = \"examples.ipynb\" # necessary only with password-authentifying jupyter."
   ]
  },
  {
   "cell_type": "markdown",
   "metadata": {},
   "source": [
    "# parse arguments and set the parameter to Note."
   ]
  },
  {
   "cell_type": "code",
   "execution_count": 4,
   "metadata": {},
   "outputs": [],
   "source": [
    "note = lb.Note('./exp_log',\n",
    "               safe_mode=False, # set False during debugging.\n",
    "               script_name=script_name)\n",
    "params = parser.parse_args(args)\n",
    "note.set_params(params)"
   ]
  },
  {
   "cell_type": "markdown",
   "metadata": {},
   "source": [
    "# save parameters before starting your experiment."
   ]
  },
  {
   "cell_type": "code",
   "execution_count": 5,
   "metadata": {},
   "outputs": [
    {
     "name": "stdout",
     "output_type": "stream",
     "text": [
      "dirname: True\n",
      "dirname: True\n",
      "hoge ./exp_log/examples/20181124-20.00.29\n",
      "huga ./exp_log/examples/20181124-20.00.29 / examples.ipynb\n",
      "/Users/hashimoto/github/lab-note/examples.ipynb\n",
      "./exp_log/examples/20181124-20.00.29/examples.ipynb\n",
      "[NbConvertApp] Converting notebook examples.ipynb to script\n",
      "[NbConvertApp] Writing 3093 bytes to ./exp_log/examples/20181124-20.00.29/examples.py\n",
      "dirname: True\n",
      "/Users/hashimoto/github/lab-note/labnote/__init__.py /Users/hashimoto/github/lab-note\n",
      "/Users/hashimoto/github/lab-note/labnote/core.py /Users/hashimoto/github/lab-note\n",
      "/Users/hashimoto/github/lab-note/labnote/utils.py /Users/hashimoto/github/lab-note\n",
      "/Users/hashimoto/github/lab-note/labnote/argparse.py /Users/hashimoto/github/lab-note\n",
      "dirname: True\n",
      "dirname: True\n"
     ]
    }
   ],
   "source": [
    "note.save(\"Memo: this is a perfect experimental setting!\")"
   ]
  },
  {
   "cell_type": "markdown",
   "metadata": {},
   "source": [
    "# save experimental results safely (in two ways)\n",
    "'note.record()' makes result directory with timestamp."
   ]
  },
  {
   "cell_type": "code",
   "execution_count": 6,
   "metadata": {},
   "outputs": [
    {
     "name": "stdout",
     "output_type": "stream",
     "text": [
      "dirname: True\n",
      "Start record, 20181124-20.00.34.437129\n",
      "\n",
      "./exp_log/examples/20181124-20.00.29/results/20181124-20.00.34.435892\n",
      "Record timestamp here, 20181124-20.00.34.438560\n",
      "\n",
      "End record, 20181124-20.00.34.439786\n",
      "\n",
      "dirname: True\n"
     ]
    }
   ],
   "source": [
    "import os.path\n",
    "import numpy as np\n",
    "from numpy.random import randn\n",
    "\n",
    "\n",
    "with note.record() as rec:\n",
    "    print(rec.dirname)\n",
    "    x1 = randn(note.params.N)*note.params.alpha\n",
    "    x2 = randn(note.params.N)*note.params.beta\n",
    "    x = x1+x2\n",
    "    ideal_sigma = np.sqrt(note.params.alpha**2 + note.params.beta**2)\n",
    "    real_sigma = np.sqrt(np.var(x))\n",
    "    rec.timestamp('Record timestamp here')\n",
    "    with open(rec.getpath(\"test.txt\"),'w') as f:\n",
    "        f.write(\"ideal_sigma: %f\\n\"%ideal_sigma)\n",
    "        f.write(\"real_sigma: %f\\n\"%real_sigma)\n",
    "    last_exp_log = rec.dirname\n",
    "\n",
    "# The above code can be replaced to the following style.\n",
    "rec = note.record()\n",
    "# rec.open()\n",
    "# ...\n",
    "# rec.close()"
   ]
  },
  {
   "cell_type": "markdown",
   "metadata": {},
   "source": [
    "# show records"
   ]
  },
  {
   "cell_type": "code",
   "execution_count": 7,
   "metadata": {},
   "outputs": [
    {
     "name": "stdout",
     "output_type": "stream",
     "text": [
      "test.txt (calculation result)\n",
      "---------------\n",
      "ideal_sigma: 1.414214\n",
      "\n",
      "real_sigma: 1.523624\n",
      "\n",
      "---------------\n"
     ]
    }
   ],
   "source": [
    "print('test.txt (calculation result)')\n",
    "print('---------------')\n",
    "with open(os.path.join(last_exp_log,'test.txt')) as f:\n",
    "    for l in f:\n",
    "        print(l)\n",
    "print('---------------')\n"
   ]
  },
  {
   "cell_type": "code",
   "execution_count": 8,
   "metadata": {},
   "outputs": [
    {
     "name": "stdout",
     "output_type": "stream",
     "text": [
      "timestamp\n",
      "---------------\n",
      "Start record, 20181124-20.00.34.437129\n",
      "\n",
      "Record timestamp here, 20181124-20.00.34.438560\n",
      "\n",
      "End record, 20181124-20.00.34.439786\n",
      "\n",
      "---------------\n"
     ]
    }
   ],
   "source": [
    "print('timestamp')\n",
    "print('---------------')\n",
    "with open(os.path.join(last_exp_log,'timestamp')) as f:\n",
    "    for l in f:\n",
    "        print(l)\n",
    "print('---------------')\n"
   ]
  },
  {
   "cell_type": "code",
   "execution_count": 9,
   "metadata": {},
   "outputs": [
    {
     "name": "stdout",
     "output_type": "stream",
     "text": [
      "requirements.txt\n",
      "---------------\n",
      "dirname: True\n",
      "numpy==1.14.2\n",
      "\n",
      "labnote==0.9.3\n",
      "\n",
      "---------------\n"
     ]
    }
   ],
   "source": [
    "print('requirements.txt')\n",
    "print('---------------')\n",
    "with open(os.path.join(note.makedirs(),'requirements.txt')) as f:\n",
    "    for l in f:\n",
    "        print(l)\n",
    "print('---------------')\n"
   ]
  },
  {
   "cell_type": "markdown",
   "metadata": {},
   "source": [
    "# close session\n",
    "exit() calls note destructor, which save the jupyter log as an .html file in the `exp_log' directory."
   ]
  },
  {
   "cell_type": "code",
   "execution_count": 10,
   "metadata": {},
   "outputs": [],
   "source": [
    "#note.wrapup()\n",
    "#exit()\n"
   ]
  },
  {
   "cell_type": "code",
   "execution_count": null,
   "metadata": {},
   "outputs": [],
   "source": []
  },
  {
   "cell_type": "code",
   "execution_count": null,
   "metadata": {},
   "outputs": [],
   "source": []
  }
 ],
 "metadata": {
  "kernelspec": {
   "display_name": "Python 3",
   "language": "python",
   "name": "python3"
  },
  "language_info": {
   "codemirror_mode": {
    "name": "ipython",
    "version": 3
   },
   "file_extension": ".py",
   "mimetype": "text/x-python",
   "name": "python",
   "nbconvert_exporter": "python",
   "pygments_lexer": "ipython3",
   "version": "3.6.5"
  }
 },
 "nbformat": 4,
 "nbformat_minor": 2
}
